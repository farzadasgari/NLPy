{
 "cells": [
  {
   "cell_type": "markdown",
   "id": "d7d889a9-c6b1-4729-b232-c175494e10c1",
   "metadata": {},
   "source": [
    "# Text Normalization\n",
    "\n",
    "Text normalization is the process of transforming text into a standard format. This is important for improving the accuracy of text processing tasks. Common normalization techniques include converting text to lowercase, removing punctuation, and handling contractions."
   ]
  },
  {
   "cell_type": "markdown",
   "id": "7501f039-c67d-4e4c-8857-1cd31ebb51d6",
   "metadata": {},
   "source": [
    "## Why Normalize Text?\n",
    "\n",
    "Normalization helps in:\n",
    "- Reducing variability in the text.\n",
    "- Ensuring consistency across different text inputs.\n",
    "- Improving the performance of downstream NLP tasks.\n",
    "\n",
    "## Common Text Normalization Techniques\n",
    "\n",
    "1. **Lowercasing**: Convert all characters in the text to lowercase to ensure uniformity.\n",
    "2. **Removing Punctuation**: Strip punctuation marks from the text to focus on the words.\n",
    "3. **Handling Contractions**: Expand contractions to their full forms (e.g., \"don't\" to \"do not\").\n",
    "4. **Removing Whitespace**: Trim unnecessary whitespace from the text."
   ]
  },
  {
   "cell_type": "markdown",
   "id": "950b3bba-c324-47a8-8cc6-0830f3958f66",
   "metadata": {},
   "source": [
    "### Lowercasing"
   ]
  },
  {
   "cell_type": "code",
   "execution_count": 1,
   "id": "5f557a49-f5d1-43c5-bc19-676f5a274354",
   "metadata": {},
   "outputs": [
    {
     "name": "stdout",
     "output_type": "stream",
     "text": [
      "Lowercased Text: hello, i am farzad asgari, and welcome to the nlpy course. we will learn a lot about nlp!\n"
     ]
    }
   ],
   "source": [
    "# Define a sample text\n",
    "text = \"Hello, I am Farzad Asgari, and welcome to the NLPy Course. We WILL learn a LOT about NLP!\"\n",
    "\n",
    "# Convert the text to lowercase\n",
    "normalized_text = text.lower()\n",
    "\n",
    "# Print the normalized text\n",
    "print(\"Lowercased Text:\", normalized_text)"
   ]
  },
  {
   "cell_type": "markdown",
   "id": "892499ac-4ec5-4c5f-8554-431404225b9b",
   "metadata": {},
   "source": [
    "### Removing Punctuation"
   ]
  },
  {
   "cell_type": "code",
   "execution_count": 2,
   "id": "d4bd5d22-bf8c-438e-8a0b-f80a5ec9d760",
   "metadata": {},
   "outputs": [
    {
     "name": "stdout",
     "output_type": "stream",
     "text": [
      "Text Without Punctuation: Hello I am Farzad Asgari and welcome to the NLPy course We will learn a lot about NLP\n"
     ]
    }
   ],
   "source": [
    "import string\n",
    "\n",
    "# Define a sample text\n",
    "text = \"Hello, I am Farzad Asgari, and welcome to the NLPy course. We will learn a lot about NLP!\"\n",
    "\n",
    "# Remove punctuation using Python's string module\n",
    "normalized_text = text.translate(str.maketrans('', '', string.punctuation))\n",
    "\n",
    "# Print the text without punctuation\n",
    "print(\"Text Without Punctuation:\", normalized_text)"
   ]
  },
  {
   "cell_type": "markdown",
   "id": "8d24fa38-b8c1-48ee-93e1-7c8e270b5c84",
   "metadata": {},
   "source": [
    "### Handling Contractions\n",
    "To handle contractions, you can use the contractions library. If it's not installed, you can use `!pip install contractions` to install it."
   ]
  },
  {
   "cell_type": "code",
   "execution_count": 3,
   "id": "b27eee6a-595f-43e2-9864-f895c70a0520",
   "metadata": {},
   "outputs": [
    {
     "name": "stdout",
     "output_type": "stream",
     "text": [
      "Requirement already satisfied: contractions in e:\\work\\github\\nlpy\\venv\\lib\\site-packages (0.1.73)\n",
      "Requirement already satisfied: textsearch>=0.0.21 in e:\\work\\github\\nlpy\\venv\\lib\\site-packages (from contractions) (0.0.24)\n",
      "Requirement already satisfied: anyascii in e:\\work\\github\\nlpy\\venv\\lib\\site-packages (from textsearch>=0.0.21->contractions) (0.3.2)\n",
      "Requirement already satisfied: pyahocorasick in e:\\work\\github\\nlpy\\venv\\lib\\site-packages (from textsearch>=0.0.21->contractions) (2.1.0)\n"
     ]
    }
   ],
   "source": [
    "!pip install contractions"
   ]
  },
  {
   "cell_type": "code",
   "execution_count": 4,
   "id": "56041a4a-204c-4604-8e57-b8588085a9e2",
   "metadata": {},
   "outputs": [
    {
     "name": "stdout",
     "output_type": "stream",
     "text": [
      "Expanded Contractions: Hello, I am Farzad Asgari, and welcome to the NLPy course. We will not learn much without practice.\n"
     ]
    }
   ],
   "source": [
    "import contractions\n",
    "\n",
    "# Define a sample text with contractions\n",
    "text = \"Hello, I am Farzad Asgari, and welcome to the NLPy course. We won't learn much without practice.\"\n",
    "\n",
    "# Expand contractions\n",
    "expanded_text = contractions.fix(text)\n",
    "\n",
    "# Print the expanded text\n",
    "print(\"Expanded Contractions:\", expanded_text)"
   ]
  },
  {
   "cell_type": "markdown",
   "id": "e97d0fa2-55e8-4168-9fdd-148427394c14",
   "metadata": {},
   "source": [
    "### Removing Whitespace"
   ]
  },
  {
   "cell_type": "code",
   "execution_count": 5,
   "id": "121818f8-ec17-4bba-ad21-a71c287e9f92",
   "metadata": {},
   "outputs": [
    {
     "name": "stdout",
     "output_type": "stream",
     "text": [
      "Text Without Leading and Trailing Whitespace: Hello, I am  Farzad Asgari, and welcome to the NLPy course. We will learn a lot about NLP!\n"
     ]
    }
   ],
   "source": [
    "# Define a sample text with extra whitespace\n",
    "text = \"   Hello, I am  Farzad Asgari, and welcome to the NLPy course. We will learn a lot about NLP!   \"\n",
    "\n",
    "# Remove leading and trailing whitespace\n",
    "normalized_text = text.strip()\n",
    "\n",
    "# Print the text without leading and trailing whitespace\n",
    "print(\"Text Without Leading and Trailing Whitespace:\", normalized_text)"
   ]
  },
  {
   "cell_type": "markdown",
   "id": "35825ad1-85be-4f43-a6ad-90b6d86d39f2",
   "metadata": {},
   "source": [
    "## Combining Normalization Steps\n",
    "You can combine multiple normalization techniques in a single function to standardize text effectively."
   ]
  },
  {
   "cell_type": "code",
   "execution_count": 6,
   "id": "f46ecb0b-1af2-4ae6-950b-67109a779961",
   "metadata": {},
   "outputs": [
    {
     "name": "stdout",
     "output_type": "stream",
     "text": [
      "Normalized Text: hello and welcome to the nlpy course we will not learn much without practice\n"
     ]
    }
   ],
   "source": [
    "import string\n",
    "import contractions\n",
    "\n",
    "def normalize_text(text):\n",
    "    # Convert to lowercase\n",
    "    text = text.lower()\n",
    "    # Remove punctuation\n",
    "    text = text.translate(str.maketrans('', '', string.punctuation))\n",
    "    # Expand contractions\n",
    "    text = contractions.fix(text)\n",
    "    # Remove leading and trailing whitespace\n",
    "    text = text.strip()\n",
    "    return text\n",
    "\n",
    "# Define a sample text\n",
    "text = \"   Hello, and welcome to the NLPy Course! We WON'T learn much without practice.   \"\n",
    "\n",
    "# Apply the normalization function\n",
    "normalized_text = normalize_text(text)\n",
    "\n",
    "# Print the normalized text\n",
    "print(\"Normalized Text:\", normalized_text)"
   ]
  }
 ],
 "metadata": {
  "kernelspec": {
   "display_name": "Python 3 (ipykernel)",
   "language": "python",
   "name": "python3"
  },
  "language_info": {
   "codemirror_mode": {
    "name": "ipython",
    "version": 3
   },
   "file_extension": ".py",
   "mimetype": "text/x-python",
   "name": "python",
   "nbconvert_exporter": "python",
   "pygments_lexer": "ipython3",
   "version": "3.10.11"
  }
 },
 "nbformat": 4,
 "nbformat_minor": 5
}
